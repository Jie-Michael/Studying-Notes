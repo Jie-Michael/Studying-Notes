{
 "cells": [
  {
   "cell_type": "markdown",
   "metadata": {
    "execution": {
     "iopub.execute_input": "2020-07-06T08:28:39.843025Z",
     "iopub.status.busy": "2020-07-06T08:28:39.842576Z",
     "iopub.status.idle": "2020-07-06T08:28:39.889577Z",
     "shell.execute_reply": "2020-07-06T08:28:39.887936Z",
     "shell.execute_reply.started": "2020-07-06T08:28:39.842955Z"
    }
   },
   "source": [
    "1x1 convolution\n",
    "\n",
    "作用：通过输出的通道数的改变实现对特征的降维或者升维（有时也叫深度depth）  \n",
    "可以在保持feature map 尺寸不变（即不损失分辨率）的前提下**大幅增加非线性特性**，把网络做得很deep\n",
    "\n",
    "如果卷积的输出输入都是一个平面，那么１X1卷积核并没有什么意义，它是完全不考虑像素与周边其他像素关系。但卷积的输出输入是长方体，所以１X1卷积实际上对每个像素点，在不同的channels上进行线性组合（信息整合），且保留原有平面结构，调控depth,从而完成升维或降维的功能。\n",
    "\n",
    "下图所示，如果选择２个filters的１X1卷积层，那么数据就从原来的depth3降到了２。若用４个filters,则起到了升维的作用。\n",
    "\n",
    "![con1d](fig/conv1d.png)\n",
    "pytorch conv1d"
   ]
  },
  {
   "cell_type": "markdown",
   "metadata": {},
   "source": [
    "the difference between filters and kernels in convolutional network"
   ]
  }
 ],
 "metadata": {
  "kernelspec": {
   "display_name": "Python 3",
   "language": "python",
   "name": "python3"
  },
  "language_info": {
   "codemirror_mode": {
    "name": "ipython",
    "version": 3
   },
   "file_extension": ".py",
   "mimetype": "text/x-python",
   "name": "python",
   "nbconvert_exporter": "python",
   "pygments_lexer": "ipython3",
   "version": "3.7.4"
  }
 },
 "nbformat": 4,
 "nbformat_minor": 4
}
