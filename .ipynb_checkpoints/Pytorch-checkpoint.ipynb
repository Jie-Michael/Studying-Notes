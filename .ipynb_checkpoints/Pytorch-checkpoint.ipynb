{
 "cells": [
  {
   "cell_type": "code",
   "execution_count": 1,
   "metadata": {
    "execution": {
     "iopub.execute_input": "2020-10-27T02:38:01.077541Z",
     "iopub.status.busy": "2020-10-27T02:38:01.077041Z",
     "iopub.status.idle": "2020-10-27T02:38:02.207470Z",
     "shell.execute_reply": "2020-10-27T02:38:02.206522Z",
     "shell.execute_reply.started": "2020-10-27T02:38:01.077443Z"
    }
   },
   "outputs": [],
   "source": [
    "import torch"
   ]
  },
  {
   "cell_type": "code",
   "execution_count": 5,
   "metadata": {
    "execution": {
     "iopub.execute_input": "2020-10-27T02:40:21.438685Z",
     "iopub.status.busy": "2020-10-27T02:40:21.438144Z",
     "iopub.status.idle": "2020-10-27T02:40:21.451934Z",
     "shell.execute_reply": "2020-10-27T02:40:21.451049Z",
     "shell.execute_reply.started": "2020-10-27T02:40:21.438590Z"
    }
   },
   "outputs": [
    {
     "data": {
      "text/plain": [
       "tensor([[0.5129, 0.2725]])"
      ]
     },
     "execution_count": 5,
     "metadata": {},
     "output_type": "execute_result"
    },
    {
     "data": {
      "text/plain": [
       "tensor([[0.5129, 0.2725]], device='cuda:0')"
      ]
     },
     "execution_count": 5,
     "metadata": {},
     "output_type": "execute_result"
    }
   ],
   "source": [
    "tensor = torch.rand(1,2)\n",
    "tensor\n",
    "tensor = tensor.cuda()\n",
    "tensor"
   ]
  },
  {
   "cell_type": "code",
   "execution_count": 7,
   "metadata": {
    "execution": {
     "iopub.execute_input": "2020-10-27T02:40:41.245779Z",
     "iopub.status.busy": "2020-10-27T02:40:41.245452Z",
     "iopub.status.idle": "2020-10-27T02:40:43.611140Z",
     "shell.execute_reply": "2020-10-27T02:40:43.610073Z",
     "shell.execute_reply.started": "2020-10-27T02:40:41.245725Z"
    }
   },
   "outputs": [
    {
     "data": {
      "text/plain": [
       "tensor([[0.5129, 0.2725]], device='cuda:1')"
      ]
     },
     "execution_count": 7,
     "metadata": {},
     "output_type": "execute_result"
    }
   ],
   "source": [
    "device = torch.device('cuda:1')\n",
    "tensor1 = tensor.to(device)\n",
    "tensor1"
   ]
  }
 ],
 "metadata": {
  "kernelspec": {
   "display_name": "Python 3",
   "language": "python",
   "name": "python3"
  },
  "language_info": {
   "codemirror_mode": {
    "name": "ipython",
    "version": 3
   },
   "file_extension": ".py",
   "mimetype": "text/x-python",
   "name": "python",
   "nbconvert_exporter": "python",
   "pygments_lexer": "ipython3",
   "version": "3.7.4"
  }
 },
 "nbformat": 4,
 "nbformat_minor": 4
}
