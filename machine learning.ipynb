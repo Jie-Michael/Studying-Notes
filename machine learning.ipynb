{
 "cells": [
  {
   "cell_type": "markdown",
   "metadata": {},
   "source": [
    "### A nice introdcution to boosted tree: https://homes.cs.washington.edu/~tqchen/pdf/BoostedTree.pdf"
   ]
  },
  {
   "cell_type": "markdown",
   "metadata": {
    "execution": {
     "iopub.execute_input": "2020-06-15T12:42:34.171837Z",
     "iopub.status.busy": "2020-06-15T12:42:34.171332Z",
     "iopub.status.idle": "2020-06-15T12:42:34.177166Z",
     "shell.execute_reply": "2020-06-15T12:42:34.175958Z",
     "shell.execute_reply.started": "2020-06-15T12:42:34.171751Z"
    }
   },
   "source": [
    "### Regularization\n",
    "measures the complexity of model"
   ]
  },
  {
   "cell_type": "markdown",
   "metadata": {
    "execution": {
     "iopub.execute_input": "2020-06-15T12:45:10.663620Z",
     "iopub.status.busy": "2020-06-15T12:45:10.663113Z",
     "iopub.status.idle": "2020-06-15T12:45:10.670828Z",
     "shell.execute_reply": "2020-06-15T12:45:10.669195Z",
     "shell.execute_reply.started": "2020-06-15T12:45:10.663536Z"
    }
   },
   "source": [
    "![re1](fig/re1.png)\n",
    "![re1](fig/re2.png)"
   ]
  }
 ],
 "metadata": {
  "kernelspec": {
   "display_name": "Python 3",
   "language": "python",
   "name": "python3"
  },
  "language_info": {
   "codemirror_mode": {
    "name": "ipython",
    "version": 3
   },
   "file_extension": ".py",
   "mimetype": "text/x-python",
   "name": "python",
   "nbconvert_exporter": "python",
   "pygments_lexer": "ipython3",
   "version": "3.7.4"
  }
 },
 "nbformat": 4,
 "nbformat_minor": 4
}
